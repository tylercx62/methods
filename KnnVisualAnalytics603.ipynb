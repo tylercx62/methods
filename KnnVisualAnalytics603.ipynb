{
 "cells": [
  {
   "cell_type": "code",
   "execution_count": 3,
   "metadata": {},
   "outputs": [
    {
     "data": {
      "text/html": [
       "<div style=\"max-height:1000px;max-width:1500px;overflow:auto;\">\n",
       "<table border=\"1\" class=\"dataframe\">\n",
       "  <thead>\n",
       "    <tr style=\"text-align: right;\">\n",
       "      <th></th>\n",
       "      <th>id</th>\n",
       "      <th>type</th>\n",
       "      <th>name</th>\n",
       "      <th>yearpublished</th>\n",
       "      <th>minplayers</th>\n",
       "      <th>maxplayers</th>\n",
       "      <th>playingtime</th>\n",
       "      <th>minplaytime</th>\n",
       "      <th>maxplaytime</th>\n",
       "      <th>minage</th>\n",
       "      <th>users_rated</th>\n",
       "      <th>average_rating</th>\n",
       "      <th>bayes_average_rating</th>\n",
       "      <th>total_owners</th>\n",
       "      <th>total_traders</th>\n",
       "      <th>total_wanters</th>\n",
       "      <th>total_wishers</th>\n",
       "      <th>total_comments</th>\n",
       "      <th>total_weights</th>\n",
       "      <th>average_weight</th>\n",
       "    </tr>\n",
       "  </thead>\n",
       "  <tbody>\n",
       "    <tr>\n",
       "      <th>0</th>\n",
       "      <td>12333</td>\n",
       "      <td>boardgame</td>\n",
       "      <td>Twilight Struggle</td>\n",
       "      <td>2005</td>\n",
       "      <td>2</td>\n",
       "      <td>2</td>\n",
       "      <td>180</td>\n",
       "      <td>180</td>\n",
       "      <td>180</td>\n",
       "      <td>13</td>\n",
       "      <td>20113</td>\n",
       "      <td>8.33774</td>\n",
       "      <td>8.22186</td>\n",
       "      <td>26647</td>\n",
       "      <td>372</td>\n",
       "      <td>1219</td>\n",
       "      <td>5865</td>\n",
       "      <td>5347</td>\n",
       "      <td>2562</td>\n",
       "      <td>3.4785</td>\n",
       "    </tr>\n",
       "    <tr>\n",
       "      <th>1</th>\n",
       "      <td>120677</td>\n",
       "      <td>boardgame</td>\n",
       "      <td>Terra Mystica</td>\n",
       "      <td>2012</td>\n",
       "      <td>2</td>\n",
       "      <td>5</td>\n",
       "      <td>150</td>\n",
       "      <td>60</td>\n",
       "      <td>150</td>\n",
       "      <td>12</td>\n",
       "      <td>14383</td>\n",
       "      <td>8.28798</td>\n",
       "      <td>8.14232</td>\n",
       "      <td>16519</td>\n",
       "      <td>132</td>\n",
       "      <td>1586</td>\n",
       "      <td>6277</td>\n",
       "      <td>2526</td>\n",
       "      <td>1423</td>\n",
       "      <td>3.8939</td>\n",
       "    </tr>\n",
       "    <tr>\n",
       "      <th>2</th>\n",
       "      <td>102794</td>\n",
       "      <td>boardgame</td>\n",
       "      <td>Caverna: The Cave Farmers</td>\n",
       "      <td>2013</td>\n",
       "      <td>1</td>\n",
       "      <td>7</td>\n",
       "      <td>210</td>\n",
       "      <td>30</td>\n",
       "      <td>210</td>\n",
       "      <td>12</td>\n",
       "      <td>9262</td>\n",
       "      <td>8.28994</td>\n",
       "      <td>8.06886</td>\n",
       "      <td>12230</td>\n",
       "      <td>99</td>\n",
       "      <td>1476</td>\n",
       "      <td>5600</td>\n",
       "      <td>1700</td>\n",
       "      <td>777</td>\n",
       "      <td>3.7761</td>\n",
       "    </tr>\n",
       "    <tr>\n",
       "      <th>3</th>\n",
       "      <td>25613</td>\n",
       "      <td>boardgame</td>\n",
       "      <td>Through the Ages: A Story of Civilization</td>\n",
       "      <td>2006</td>\n",
       "      <td>2</td>\n",
       "      <td>4</td>\n",
       "      <td>240</td>\n",
       "      <td>240</td>\n",
       "      <td>240</td>\n",
       "      <td>12</td>\n",
       "      <td>13294</td>\n",
       "      <td>8.20407</td>\n",
       "      <td>8.05804</td>\n",
       "      <td>14343</td>\n",
       "      <td>362</td>\n",
       "      <td>1084</td>\n",
       "      <td>5075</td>\n",
       "      <td>3378</td>\n",
       "      <td>1642</td>\n",
       "      <td>4.1590</td>\n",
       "    </tr>\n",
       "    <tr>\n",
       "      <th>4</th>\n",
       "      <td>3076</td>\n",
       "      <td>boardgame</td>\n",
       "      <td>Puerto Rico</td>\n",
       "      <td>2002</td>\n",
       "      <td>2</td>\n",
       "      <td>5</td>\n",
       "      <td>150</td>\n",
       "      <td>90</td>\n",
       "      <td>150</td>\n",
       "      <td>12</td>\n",
       "      <td>39883</td>\n",
       "      <td>8.14261</td>\n",
       "      <td>8.04524</td>\n",
       "      <td>44362</td>\n",
       "      <td>795</td>\n",
       "      <td>861</td>\n",
       "      <td>5414</td>\n",
       "      <td>9173</td>\n",
       "      <td>5213</td>\n",
       "      <td>3.2943</td>\n",
       "    </tr>\n",
       "  </tbody>\n",
       "</table>\n",
       "</div>"
      ],
      "text/plain": [
       "       id       type                                       name  \\\n",
       "0   12333  boardgame                          Twilight Struggle   \n",
       "1  120677  boardgame                              Terra Mystica   \n",
       "2  102794  boardgame                  Caverna: The Cave Farmers   \n",
       "3   25613  boardgame  Through the Ages: A Story of Civilization   \n",
       "4    3076  boardgame                                Puerto Rico   \n",
       "\n",
       "   yearpublished  minplayers  maxplayers  playingtime  minplaytime  \\\n",
       "0           2005           2           2          180          180   \n",
       "1           2012           2           5          150           60   \n",
       "2           2013           1           7          210           30   \n",
       "3           2006           2           4          240          240   \n",
       "4           2002           2           5          150           90   \n",
       "\n",
       "   maxplaytime  minage  users_rated  average_rating  bayes_average_rating  \\\n",
       "0          180      13        20113         8.33774               8.22186   \n",
       "1          150      12        14383         8.28798               8.14232   \n",
       "2          210      12         9262         8.28994               8.06886   \n",
       "3          240      12        13294         8.20407               8.05804   \n",
       "4          150      12        39883         8.14261               8.04524   \n",
       "\n",
       "   total_owners  total_traders  total_wanters  total_wishers  total_comments  \\\n",
       "0         26647            372           1219           5865            5347   \n",
       "1         16519            132           1586           6277            2526   \n",
       "2         12230             99           1476           5600            1700   \n",
       "3         14343            362           1084           5075            3378   \n",
       "4         44362            795            861           5414            9173   \n",
       "\n",
       "   total_weights  average_weight  \n",
       "0           2562          3.4785  \n",
       "1           1423          3.8939  \n",
       "2            777          3.7761  \n",
       "3           1642          4.1590  \n",
       "4           5213          3.2943  "
      ]
     },
     "execution_count": 3,
     "metadata": {},
     "output_type": "execute_result"
    }
   ],
   "source": [
    "import pandas\n",
    "\n",
    "board_games = pandas.read_csv(\"board_games.csv\")\n",
    "board_games = board_games.dropna(axis=0)\n",
    "board_games = board_games[board_games[\"users_rated\"] > 0]\n",
    "\n",
    "board_games.head()"
   ]
  },
  {
   "cell_type": "code",
   "execution_count": 4,
   "metadata": {},
   "outputs": [
    {
     "data": {
      "text/plain": [
       "(array([   602.,   1231.,   2824.,   5206.,   8223.,  13593.,  13849.,\n",
       "          8470.,   2224.,    672.]),\n",
       " array([  1. ,   1.9,   2.8,   3.7,   4.6,   5.5,   6.4,   7.3,   8.2,\n",
       "          9.1,  10. ]),\n",
       " <a list of 10 Patch objects>)"
      ]
     },
     "execution_count": 4,
     "metadata": {},
     "output_type": "execute_result"
    },
    {
     "data": {
      "image/png": "[encoded data removed]",
      "text/plain": [
       "<matplotlib.figure.Figure at 0x1039faf98>"
      ]
     },
     "metadata": {},
     "output_type": "display_data"
    }
   ],
   "source": [
    "%matplotlib inline\n",
    "import matplotlib.pyplot as plt\n",
    "\n",
    "plt.hist(board_games[\"average_rating\"])"
   ]
  },
  {
   "cell_type": "code",
   "execution_count": 5,
   "metadata": {},
   "outputs": [
    {
     "name": "stdout",
     "output_type": "stream",
     "text": [
      "1.57882993483\n",
      "6.01611284933\n"
     ]
    }
   ],
   "source": [
    "print(board_games[\"average_rating\"].std())\n",
    "print(board_games[\"average_rating\"].mean())\n"
   ]
  },
  {
   "cell_type": "markdown",
   "metadata": {},
   "source": [
    "## Error metric\n",
    "\n",
    "In this data set, using mean squared error as an error metric makes sense.  This is because the data is continuous, and follows a somewhat normal distribution.  We'll be able to compare our error to the standard deviation to see how good the model is at predictions."
   ]
  },
  {
   "cell_type": "code",
   "execution_count": 39,
   "metadata": {},
   "outputs": [
    {
     "data": {
      "text/plain": [
       "KMeans(copy_x=True, init='k-means++', max_iter=300, n_clusters=5, n_init=10,\n",
       "    n_jobs=1, precompute_distances=True, random_state=None, tol=0.0001,\n",
       "    verbose=0)"
      ]
     },
     "execution_count": 39,
     "metadata": {},
     "output_type": "execute_result"
    }
   ],
   "source": [
    "from sklearn.cluster import KMeans\n",
    "\n",
    "clus = KMeans(n_clusters=5)\n",
    "cols = list(board_games.columns)\n",
    "cols.remove(\"name\")\n",
    "cols.remove(\"id\")\n",
    "cols.remove(\"type\")\n",
    "numeric = board_games[cols]\n",
    "\n",
    "clus.fit(numeric)"
   ]
  },
  {
   "cell_type": "code",
   "execution_count": 26,
   "metadata": {},
   "outputs": [],
   "source": [
    "import numpy\n",
    "game_mean = numeric.apply(numpy.mean, axis=1)\n",
    "game_std = numeric.apply(numpy.std, axis=1)"
   ]
  },
  {
   "cell_type": "code",
   "execution_count": 27,
   "metadata": {},
   "outputs": [
    {
     "data": {
      "text/plain": [
       "<matplotlib.collections.PathCollection at 0x10b5516d8>"
      ]
     },
     "execution_count": 27,
     "metadata": {},
     "output_type": "execute_result"
    },
    {
     "data": {
      "image/png": "[encoded data removed]",
      "text/plain": [
       "<matplotlib.figure.Figure at 0x10b4b26d8>"
      ]
     },
     "metadata": {},
     "output_type": "display_data"
    }
   ],
   "source": [
    "labels = clus.labels_\n",
    "\n",
    "plt.scatter(x=game_mean, y=game_std, c=labels)"
   ]
  },
  {
   "cell_type": "markdown",
   "metadata": {},
   "source": [
    "## Game clusters\n",
    "\n",
    "It looks like most of the games are similar, but as the game attributes tend to increase in value (such as number of users who rated), there are fewer high quality games.  So most games don't get played much, but a few get a lot of players."
   ]
  },
  {
   "cell_type": "code",
   "execution_count": 29,
   "metadata": {},
   "outputs": [
    {
     "data": {
      "text/plain": [
       "yearpublished           0.108461\n",
       "minplayers             -0.032701\n",
       "maxplayers             -0.008335\n",
       "playingtime             0.048994\n",
       "minplaytime             0.043985\n",
       "maxplaytime             0.048994\n",
       "minage                  0.210049\n",
       "users_rated             0.112564\n",
       "average_rating          1.000000\n",
       "bayes_average_rating    0.231563\n",
       "total_owners            0.137478\n",
       "total_traders           0.119452\n",
       "total_wanters           0.196566\n",
       "total_wishers           0.171375\n",
       "total_comments          0.123714\n",
       "total_weights           0.109691\n",
       "average_weight          0.351081\n",
       "Name: average_rating, dtype: float64"
      ]
     },
     "execution_count": 29,
     "metadata": {},
     "output_type": "execute_result"
    }
   ],
   "source": [
    "correlations = numeric.corr()\n",
    "\n",
    "correlations[\"average_rating\"]"
   ]
  },
  {
   "cell_type": "markdown",
   "metadata": {},
   "source": [
    "## Correlations\n",
    "\n",
    "The `yearpublished` column is surprisingly highly correlated with `average_rating`, showing that more recent games tend to be rated more highly.  Games for older players (`minage` is high) tend to be more highly rated.  The more \"weighty\" a game is (`average_weight` is high), the more highly it tends to be rated."
   ]
  },
  {
   "cell_type": "code",
   "execution_count": 40,
   "metadata": {},
   "outputs": [
    {
     "data": {
      "text/plain": [
       "2.0933969758339361"
      ]
     },
     "execution_count": 40,
     "metadata": {},
     "output_type": "execute_result"
    }
   ],
   "source": [
    "from sklearn.linear_model import LinearRegression\n",
    "\n",
    "reg = LinearRegression()\n",
    "cols.remove(\"average_rating\")\n",
    "cols.remove(\"bayes_average_rating\")\n",
    "reg.fit(board_games[cols], board_games[\"average_rating\"])\n",
    "predictions = reg.predict(board_games[cols])\n",
    "\n",
    "numpy.mean((predictions - board_games[\"average_rating\"]) ** 2)"
   ]
  },
  {
   "cell_type": "markdown",
   "metadata": {},
   "source": [
    "## Game clusters\n",
    "\n",
    "The error rate is close to the standard deviation of all board game ratings.  This indicates that our model may not have high predictive power.  We'll need to dig more into which games were scored well, and which ones weren't."
   ]
  },
  {
   "cell_type": "code",
   "execution_count": null,
   "metadata": {
    "collapsed": true
   },
   "outputs": [],
   "source": []
  }
 ],
 "metadata": {
  "kernelspec": {
   "display_name": "Python 3",
   "language": "python",
   "name": "python3"
  },
  "language_info": {
   "codemirror_mode": {
    "name": "ipython",
    "version": 3
   },
   "file_extension": ".py",
   "mimetype": "text/x-python",
   "name": "python",
   "nbconvert_exporter": "python",
   "pygments_lexer": "ipython3",
   "version": "3.6.2"
  }
 },
 "nbformat": 4,
 "nbformat_minor": 1
}
